{
 "cells": [
  {
   "cell_type": "code",
   "execution_count": 1,
   "metadata": {},
   "outputs": [],
   "source": [
    "%matplotlib inline\n",
    "import matplotlib.pyplot as plt\n",
    "import numpy as np"
   ]
  },
  {
   "cell_type": "code",
   "execution_count": 2,
   "metadata": {},
   "outputs": [
    {
     "name": "stdout",
     "output_type": "stream",
     "text": [
      "(1000, 2)\n",
      "The vector:  [0.8660254037844386, 0.5000000000000001]\n",
      "Magnitude :  1.0\n",
      "Angle :  59.99999999999999\n"
     ]
    }
   ],
   "source": [
    "C = np.array([[2.0,1.0], [1.0,2]])\n",
    "A = np.linalg.cholesky(C)\n",
    "X = np.random.randn(1000,2)\n",
    "Y = X @ A\n",
    "print(Y.shape)\n",
    "theta = np.pi/3\n",
    "u = [np.sin(theta), np.cos(theta)]\n",
    "print(\"The vector: \", u)\n",
    "print(\"Magnitude : \", np.sqrt(u[0]**2 + u[1]**2))\n",
    "print(\"Angle : \", theta*180/np.pi)"
   ]
  },
  {
   "cell_type": "code",
   "execution_count": 3,
   "metadata": {},
   "outputs": [
    {
     "name": "stdout",
     "output_type": "stream",
     "text": [
      "(1000,)\n",
      "Projected variance:  2.8271765470396057\n"
     ]
    }
   ],
   "source": [
    "yp = Y @ u\n",
    "print(yp.shape)\n",
    "print(\"Projected variance: \", np.var(yp))"
   ]
  },
  {
   "cell_type": "code",
   "execution_count": 4,
   "metadata": {},
   "outputs": [
    {
     "name": "stdout",
     "output_type": "stream",
     "text": [
      "[2.83575073 1.05695755]\n",
      "[[ 0.89303922 -0.44997883]\n",
      " [ 0.44997883  0.89303922]]\n",
      "angle = 0.46674163577589134\n",
      "eigenangle= 2.2037268844480598\n",
      "minima= 1.0559091553699695\n",
      "angle of minima= 2.6770463714800243\n",
      "maxima= 2.8329095856378004\n",
      "angle of maxima= 1.1023132117858923\n"
     ]
    },
    {
     "data": {
      "text/plain": [
       "[<matplotlib.lines.Line2D at 0x22a71f28828>]"
      ]
     },
     "execution_count": 4,
     "metadata": {},
     "output_type": "execute_result"
    },
    {
     "data": {
      "image/png": "[encoded data removed]",
      "text/plain": [
       "<Figure size 360x216 with 1 Axes>"
      ]
     },
     "metadata": {},
     "output_type": "display_data"
    }
   ],
   "source": [
    "# Store projected variances in pVars & plot\n",
    "#\n",
    "Z=np.cov(Y.T)\n",
    "D, U = np.linalg.eig(Z)\n",
    "print(D)\n",
    "print(U)\n",
    "u2 = [np.sin(0), np.cos(0)]\n",
    "angle = np.arccos(np.dot(U[:,1],u2))\n",
    "print(\"angle =\",angle)\n",
    "u3 = [np.sin(angle), np.cos(angle)]\n",
    "eigenangle=np.var(Y@u3)\n",
    "print(\"eigenangle=\",eigenangle)\n",
    "\n",
    "maxtheta=0\n",
    "mintheta=0\n",
    "maxtemp=np.var(Y@u2)\n",
    "mintemp=np.var(Y@u2)\n",
    "nPoints = 400\n",
    "pVars = np.zeros(nPoints)\n",
    "thRange = np.linspace(0, 2*np.pi, nPoints)\n",
    "for n in range(nPoints):\n",
    "    theta = thRange[n]\n",
    "    u = [np.sin(theta), np.cos(theta)]\n",
    "    pVars[n] = np.var(Y @ u)\n",
    "    if pVars[n] > maxtemp :\n",
    "        maxtemp=pVars[n]\n",
    "        maxtheta=theta\n",
    "    if pVars[n] < mintemp :\n",
    "        mintemp=pVars[n]\n",
    "        mintheta=theta\n",
    "        \n",
    "print(\"minima=\",mintemp)\n",
    "print(\"angle of minima=\",mintheta)\n",
    "print(\"maxima=\",maxtemp)\n",
    "print(\"angle of maxima=\",maxtheta)\n",
    "fig, ax = plt.subplots(figsize=(5,3))\n",
    "ax.plot(pVars)"
   ]
  },
  {
   "cell_type": "code",
   "execution_count": 5,
   "metadata": {},
   "outputs": [
    {
     "name": "stdout",
     "output_type": "stream",
     "text": [
      "[2.83575073 1.05695755]\n",
      "[[ 0.89303922 -0.44997883]\n",
      " [ 0.44997883  0.89303922]]\n",
      "eigenangle= 2.8329149748725824\n"
     ]
    }
   ],
   "source": [
    "Z=np.cov(Y.T)\n",
    "D, U = np.linalg.eig(Z)\n",
    "print(D)\n",
    "print(U)\n",
    "u2 = [np.sin(0), np.cos(0)]\n",
    "angle = np.arccos(np.dot(U[:,0],u2))\n",
    "u3 = [np.sin(angle), np.cos(angle)]\n",
    "eigenangle=np.var(Y@u3)\n",
    "print(\"eigenangle=\",eigenangle)"
   ]
  },
  {
   "cell_type": "code",
   "execution_count": null,
   "metadata": {},
   "outputs": [],
   "source": []
  }
 ],
 "metadata": {
  "kernelspec": {
   "display_name": "Python 3",
   "language": "python",
   "name": "python3"
  },
  "language_info": {
   "codemirror_mode": {
    "name": "ipython",
    "version": 3
   },
   "file_extension": ".py",
   "mimetype": "text/x-python",
   "name": "python",
   "nbconvert_exporter": "python",
   "pygments_lexer": "ipython3",
   "version": "3.6.5"
  }
 },
 "nbformat": 4,
 "nbformat_minor": 2
}
