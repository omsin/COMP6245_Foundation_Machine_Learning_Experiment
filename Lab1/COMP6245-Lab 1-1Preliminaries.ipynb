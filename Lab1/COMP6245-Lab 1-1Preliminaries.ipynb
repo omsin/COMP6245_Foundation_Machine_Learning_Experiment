{
 "cells": [
  {
   "cell_type": "code",
   "execution_count": 3,
   "metadata": {},
   "outputs": [],
   "source": [
    "#matplotlib online\n",
    "import matplotlib.pyplot as plt\n",
    "import numpy as np"
   ]
  },
  {
   "cell_type": "code",
   "execution_count": 4,
   "metadata": {},
   "outputs": [
    {
     "name": "stdout",
     "output_type": "stream",
     "text": [
      "0\n"
     ]
    }
   ],
   "source": [
    "# np.dot is matrix product\n",
    "x = np.array([1, 2])\n",
    "y = np.array([-2, 1])\n",
    "a = np.dot(x, y)\n",
    "print(a)"
   ]
  },
  {
   "cell_type": "code",
   "execution_count": 5,
   "metadata": {},
   "outputs": [
    {
     "name": "stdout",
     "output_type": "stream",
     "text": [
      "2.23606797749979 2.23606797749979\n"
     ]
    }
   ],
   "source": [
    "# norm define is megnitude or length of vector\n",
    "b = np.linalg.norm(x)\n",
    "c = np.sqrt(x[0]**2 + x[1]**2)\n",
    "# ** mean \"to the power of\" Ex.12**3 mean twelve to the power of third\n",
    "print(b, c)"
   ]
  },
  {
   "cell_type": "code",
   "execution_count": 6,
   "metadata": {},
   "outputs": [
    {
     "name": "stdout",
     "output_type": "stream",
     "text": [
      "1.5707963267948966\n"
     ]
    }
   ],
   "source": [
    "#result of np.arccos() is radian [In this case result is 1.5707963267948966 radian that equal is 90 degree]\n",
    "theta = np.arccos(np.dot(x,y) / (np.linalg.norm(x) * np.linalg.norm(y)))\n",
    "print(theta)"
   ]
  },
  {
   "cell_type": "code",
   "execution_count": 7,
   "metadata": {},
   "outputs": [
    {
     "name": "stdout",
     "output_type": "stream",
     "text": [
      "[[3. 2. 1.]\n",
      " [2. 6. 5.]\n",
      " [1. 5. 9.]]\n",
      "[[3. 2. 1.]\n",
      " [2. 6. 5.]\n",
      " [1. 5. 9.]]\n",
      "[[0. 0. 0.]\n",
      " [0. 0. 0.]\n",
      " [0. 0. 0.]]\n"
     ]
    }
   ],
   "source": [
    "# dtype = data-type, optional\n",
    "B = np.array([[3,2,1], [2,6,5], [1,5,9]], dtype=float)\n",
    "print(B)\n",
    "print(B.T)\n",
    "print(B - B.T)"
   ]
  },
  {
   "cell_type": "code",
   "execution_count": 8,
   "metadata": {},
   "outputs": [
    {
     "name": "stdout",
     "output_type": "stream",
     "text": [
      "[0.19270719 0.16723976 0.80010521]\n",
      "[1.71270631 5.389379   8.22985291]\n",
      "[1.71270631 5.389379   8.22985291]\n",
      "(3, 3)\n",
      "(3,)\n",
      "(3,)\n"
     ]
    }
   ],
   "source": [
    "# numpy.random.rand(d0, d1, ..., dn) = Random values in a given shape.\n",
    "z = np.random.rand(3)\n",
    "print(z)\n",
    "j = np.dot(B, z)\n",
    "print(j)\n",
    "# @ is Python's Matrix Multiplication Operator\n",
    "v = B @ z\n",
    "print(v)\n",
    "print(B.shape)\n",
    "print(j.shape)\n",
    "print(v.shape)\n",
    "# difference between numpy and @ is link below\n",
    "# https://stackoverflow.com/questions/34142485/difference-between-numpy-dot-and-python-3-5-matrix-multiplication"
   ]
  },
  {
   "cell_type": "code",
   "execution_count": 9,
   "metadata": {},
   "outputs": [
    {
     "name": "stdout",
     "output_type": "stream",
     "text": [
      "7.816117485806133\n"
     ]
    }
   ],
   "source": [
    "print(z.T @ B @ z)"
   ]
  },
  {
   "cell_type": "code",
   "execution_count": 10,
   "metadata": {},
   "outputs": [
    {
     "name": "stdout",
     "output_type": "stream",
     "text": [
      "18.0\n",
      "65.00000000000004\n"
     ]
    }
   ],
   "source": [
    "print(np.trace(B))\n",
    "print(np.linalg.det(B))"
   ]
  },
  {
   "cell_type": "code",
   "execution_count": 11,
   "metadata": {},
   "outputs": [
    {
     "name": "stdout",
     "output_type": "stream",
     "text": [
      "[13.11766327  3.44324229  1.43909444]\n",
      "[[-0.19527095 -0.74608451  0.63657455]\n",
      " [-0.59990492 -0.42261825 -0.67934373]\n",
      " [-0.77587586  0.5145403   0.3650547 ]]\n"
     ]
    }
   ],
   "source": [
    "# w, v = numpy.linalg.eig(a) is compute the eigenvalues and right eigenvectors of a square array\n",
    "# https://numpy.org/doc/stable/reference/generated/numpy.linalg.eig.html\n",
    "# D = eigenvalues\n",
    "# U = right eigenvectors\n",
    "D, U = np.linalg.eig(B)\n",
    "print(D)\n",
    "print(U)"
   ]
  },
  {
   "cell_type": "code",
   "execution_count": 29,
   "metadata": {},
   "outputs": [
    {
     "name": "stdout",
     "output_type": "stream",
     "text": [
      "[-0.19527095 -0.59990492 -0.77587586]\n",
      "[-0.74608451 -0.42261825  0.5145403 ]\n",
      "1.1102230246251565e-16\n",
      "[[ 1.00000000e+00 -1.11022302e-16 -8.32667268e-17]\n",
      " [-1.11022302e-16  1.00000000e+00  0.00000000e+00]\n",
      " [-8.32667268e-17  0.00000000e+00  1.00000000e+00]]\n",
      "[[3. 2. 1.]\n",
      " [2. 6. 5.]\n",
      " [1. 5. 9.]]\n",
      "-0.0009190000000001142\n"
     ]
    }
   ],
   "source": [
    "k1 = np.array([1.744, -1.861,1.0])\n",
    "k2 = np.array([-1.45,-0.821,1.0])\n",
    "\n",
    "print(U[:,0])\n",
    "print(U[:,1])\n",
    "print(np.dot(U[:,1], U[:,2]))\n",
    "print(U@U.T)\n",
    "print(B)\n",
    "print(np.dot(k1, k2))"
   ]
  },
  {
   "cell_type": "code",
   "execution_count": 34,
   "metadata": {},
   "outputs": [
    {
     "name": "stdout",
     "output_type": "stream",
     "text": [
      "[-1.54138127  4.54138127]\n",
      "[[-0.76301998 -0.6463749 ]\n",
      " [ 0.6463749  -0.76301998]]\n",
      "[-0.76301998  0.6463749 ]\n",
      "[-0.6463749  -0.76301998]\n",
      "0.0\n",
      "[[1. 0.]\n",
      " [0. 1.]]\n"
     ]
    }
   ],
   "source": [
    "B2 = np.array([[1,3], [3,2]], dtype=float)\n",
    "D2, U2 = np.linalg.eig(B2)\n",
    "print(D2)\n",
    "print(U2)\n",
    "print(U2[:,0])\n",
    "print(U2[:,1])\n",
    "print(np.dot(U2[:,0], U2[:,1]))\n",
    "print(U2@U2.T)               "
   ]
  },
  {
   "cell_type": "code",
   "execution_count": null,
   "metadata": {},
   "outputs": [],
   "source": []
  },
  {
   "cell_type": "code",
   "execution_count": null,
   "metadata": {},
   "outputs": [],
   "source": []
  }
 ],
 "metadata": {
  "kernelspec": {
   "display_name": "Python 3",
   "language": "python",
   "name": "python3"
  },
  "language_info": {
   "codemirror_mode": {
    "name": "ipython",
    "version": 3
   },
   "file_extension": ".py",
   "mimetype": "text/x-python",
   "name": "python",
   "nbconvert_exporter": "python",
   "pygments_lexer": "ipython3",
   "version": "3.8.3"
  }
 },
 "nbformat": 4,
 "nbformat_minor": 4
}
