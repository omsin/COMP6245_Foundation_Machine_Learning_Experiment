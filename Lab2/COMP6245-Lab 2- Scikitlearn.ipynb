{
 "cells": [
  {
   "cell_type": "code",
   "execution_count": 6,
   "metadata": {},
   "outputs": [],
   "source": [
    "#matplotlib online\n",
    "import matplotlib.pyplot as plt\n",
    "import numpy as np"
   ]
  },
  {
   "cell_type": "code",
   "execution_count": 12,
   "metadata": {},
   "outputs": [
    {
     "data": {
      "text/plain": [
       "<matplotlib.collections.PathCollection at 0x2199543a908>"
      ]
     },
     "execution_count": 12,
     "metadata": {},
     "output_type": "execute_result"
    },
    {
     "data": {
      "image/png": "[encoded data removed]",
      "text/plain": [
       "<Figure size 360x360 with 1 Axes>"
      ]
     },
     "metadata": {},
     "output_type": "display_data"
    }
   ],
   "source": [
    "NumDataPerClass = 200\n",
    "# Two-class problem, distinct means, equal covariance matrices\n",
    "#\n",
    "m1 = [[2.5, 2.5]]\n",
    "m2 = [[10, 10]]\n",
    "C = [[2, 1], [1, 2]]\n",
    "# Set up the data by generating isotropic Guassians and\n",
    "# rotating them accordingly\n",
    "#\n",
    "A = np.linalg.cholesky(C)\n",
    "U1 = np.random.randn(NumDataPerClass,2)\n",
    "X1 = U1 @ A.T + m1\n",
    "U2 = np.random.randn(NumDataPerClass,2)\n",
    "X2 = U2 @ A.T + m2\n",
    "\n",
    "fig, ax = plt.subplots(figsize=(5,5))\n",
    "ax.scatter(X1[:,0], X1[:,1], c=\"c\", s=4)\n",
    "ax.scatter(X2[:,0], X2[:,1], c=\"m\", s=4)"
   ]
  },
  {
   "cell_type": "code",
   "execution_count": 13,
   "metadata": {},
   "outputs": [],
   "source": [
    "X = np.concatenate((X1, X2), axis=0)"
   ]
  },
  {
   "cell_type": "code",
   "execution_count": 14,
   "metadata": {},
   "outputs": [],
   "source": [
    "labelPos = np.ones(NumDataPerClass)\n",
    "labelNeg = -1.0 * np.ones(NumDataPerClass)\n",
    "y = np.concatenate((labelPos, labelNeg))"
   ]
  },
  {
   "cell_type": "code",
   "execution_count": 15,
   "metadata": {},
   "outputs": [
    {
     "name": "stdout",
     "output_type": "stream",
     "text": [
      "(200, 2) (200,) (200, 2) (200,)\n"
     ]
    }
   ],
   "source": [
    "rIndex = np.random.permutation(2*NumDataPerClass)\n",
    "Xr = X[rIndex,]\n",
    "yr = y[rIndex]\n",
    "\n",
    "# Training and test sets (half half)\n",
    "#\n",
    "X_train = Xr[0:NumDataPerClass]\n",
    "y_train = yr[0:NumDataPerClass]\n",
    "X_test = Xr[NumDataPerClass:2*NumDataPerClass]\n",
    "y_test = yr[NumDataPerClass:2*NumDataPerClass]\n",
    "print(X_train.shape, y_train.shape, X_test.shape, y_test.shape)\n",
    "\n",
    "Ntrain = NumDataPerClass;\n",
    "Ntest = NumDataPerClass;"
   ]
  },
  {
   "cell_type": "code",
   "execution_count": 16,
   "metadata": {},
   "outputs": [
    {
     "name": "stdout",
     "output_type": "stream",
     "text": [
      "Accuracy on training set:   1.00\n",
      "Accuracy on test set:   1.00\n",
      "Wow, Perfect Classification on Separable dataset!\n"
     ]
    },
    {
     "name": "stderr",
     "output_type": "stream",
     "text": [
      "C:\\Program Files (x86)\\Microsoft Visual Studio\\Shared\\Anaconda3_64\\lib\\site-packages\\sklearn\\linear_model\\stochastic_gradient.py:128: FutureWarning: max_iter and tol parameters have been added in <class 'sklearn.linear_model.perceptron.Perceptron'> in 0.19. If both are left unset, they default to max_iter=5 and tol=None. If tol is not None, max_iter defaults to max_iter=1000. From 0.21, default max_iter will be 1000, and default tol will be 1e-3.\n",
      "  \"and default tol will be 1e-3.\" % type(self), FutureWarning)\n"
     ]
    }
   ],
   "source": [
    "# Scikitlearn can do it for us\n",
    "#\n",
    "from sklearn.linear_model import Perceptron\n",
    "from sklearn.metrics import accuracy_score\n",
    "model = Perceptron()\n",
    "model.fit(X_train, y_train)\n",
    "yh_train = model.predict(X_train)\n",
    "print(\"Accuracy on training set: %6.2f\" %(accuracy_score(yh_train, y_train)))\n",
    "\n",
    "yh_test = model.predict(X_test)\n",
    "print(\"Accuracy on test set: %6.2f\" %(accuracy_score(yh_test, y_test)))\n",
    "\n",
    "if (accuracy_score(yh_test, y_test) > 0.99):\n",
    "    print(\"Wow, Perfect Classification on Separable dataset!\")"
   ]
  },
  {
   "cell_type": "code",
   "execution_count": null,
   "metadata": {},
   "outputs": [],
   "source": []
  },
  {
   "cell_type": "code",
   "execution_count": null,
   "metadata": {},
   "outputs": [],
   "source": []
  }
 ],
 "metadata": {
  "kernelspec": {
   "display_name": "Python 3",
   "language": "python",
   "name": "python3"
  },
  "language_info": {
   "codemirror_mode": {
    "name": "ipython",
    "version": 3
   },
   "file_extension": ".py",
   "mimetype": "text/x-python",
   "name": "python",
   "nbconvert_exporter": "python",
   "pygments_lexer": "ipython3",
   "version": "3.8.3"
  }
 },
 "nbformat": 4,
 "nbformat_minor": 2
}
