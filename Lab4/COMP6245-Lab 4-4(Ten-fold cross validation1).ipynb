{
 "cells": [
  {
   "cell_type": "code",
   "execution_count": 23,
   "metadata": {
    "scrolled": true
   },
   "outputs": [
    {
     "data": {
      "text/plain": [
       "Text(0,0.5,'Prediction')"
      ]
     },
     "execution_count": 23,
     "metadata": {},
     "output_type": "execute_result"
    },
    {
     "data": {
      "image/png": "[encoded data removed]",
      "text/plain": [
       "<Figure size 216x216 with 1 Axes>"
      ]
     },
     "metadata": {},
     "output_type": "display_data"
    }
   ],
   "source": [
    "%matplotlib inline\n",
    "import numpy as np\n",
    "import matplotlib.pyplot as plt\n",
    "from sklearn import datasets\n",
    "import math\n",
    "import statistics\n",
    "import scipy\n",
    "from scipy import stats\n",
    "from sklearn.cluster import KMeans\n",
    "from sklearn.linear_model import LinearRegression\n",
    "from scipy import ndimage\n",
    "from sklearn.gaussian_process import GaussianProcessClassifier\n",
    "from sklearn.gaussian_process.kernels import RBF\n",
    "diabetes = datasets.load_diabetes()\n",
    "X = diabetes.data\n",
    "y = diabetes.target\n",
    "\n",
    "n=440\n",
    "n2=10\n",
    "for j in range(n2):\n",
    "    mean=0\n",
    "    mean2=0\n",
    "    mean3=0\n",
    "    sum1=0.0\n",
    "    sums1=0\n",
    "    sum2=0\n",
    "    sums2=0\n",
    "    sum3=0\n",
    "    sd1=0\n",
    "    sd2=0\n",
    "    for i in range(n):\n",
    "        sum1=sum1+X[i,j]\n",
    "    mean=sum1/n\n",
    "    \n",
    "    for i in range(n):\n",
    "        sums1=sums1+((X[i,j]-mean)**2)\n",
    "    sd1=math.sqrt(sums1/(n-1))\n",
    "    \n",
    "    for i in range(n):\n",
    "        X[i,j]=(X[i,j]-mean)\n",
    "        sum2=sum2+X[i,j]\n",
    "    mean2=sum2/n\n",
    "    \n",
    "    for i in range(n):\n",
    "        X[i,j]=(X[i,j])/sd1\n",
    "        sum3=sum3+X[i,j]\n",
    "        sums2=sums2+((X[i,j]-mean2)**2)\n",
    "    mean3=sum3/n\n",
    "    sd2=math.sqrt(sums2/(n-1))\n",
    "    \n",
    "def gaussian(x, u, sigma):\n",
    "    return (np.exp(-0.5 * np.linalg.norm(x-u) / sigma))\n",
    "\n",
    "Ny=np.zeros((44,10))\n",
    "NX=np.zeros((44,10,10))\n",
    "for j in range(10):\n",
    "    a=0\n",
    "    b=0\n",
    "    for i in range(440):\n",
    "        NX[a,j,b]=X[i,j]\n",
    "        Ny[a,b]=y[i]\n",
    "        a=a+1\n",
    "        if a%44==0:\n",
    "            b=b+1\n",
    "            a=0\n",
    "            \n",
    "        \n",
    "NNy=np.zeros((440))        \n",
    "Ay=np.zeros((440))\n",
    "for g in range(10):\n",
    "    for k in range(10):\n",
    "        N, p, z = NX.shape\n",
    "        # Space for design matrix\n",
    "        #\n",
    "        M = 10\n",
    "        U = np.zeros((N,M))\n",
    "        # Basis function locations at random\n",
    "        #\n",
    "        kmeans = KMeans(n_clusters=M)\n",
    "        kmeans.fit(NX[:,:,k])\n",
    "        labels =kmeans.predict(NX[:,:,k])\n",
    "\n",
    "        C = kmeans.cluster_centers_\n",
    "        # Basis function range as distance between two random data\n",
    "        #\n",
    "        sigma= np.mean(scipy.spatial.distance.pdist(NX[:,:,k]))\n",
    "\n",
    "        # Construct the design matrix\n",
    "        #\n",
    "        for i in range(N):\n",
    "            for j in range(M):\n",
    "                U[i,j] = gaussian(NX[i,:,k], C[j,:], sigma)\n",
    "        # Pseudo inverse solution for linear part\n",
    "        #\n",
    "        l = np.linalg.inv(U.T @ U) @ U.T @ Ny[:,k]\n",
    "        # Predicted values on training data\n",
    "        #\n",
    "        yh = U @ l\n",
    "        #fig, ax = plt.subplots(figsize=(3,3))\n",
    "        #ax.scatter(Ny[:,k], yh, c='m', s=3)\n",
    "        #ax.grid(True)\n",
    "        if k==9:\n",
    "            #ax.set_title(\"Testing Set\", fontsize=14)\n",
    "            for i in range(44):\n",
    "                Ay[i+(g*44)]=yh[i]\n",
    "                NNy[i+(g*44)]=Ny[i,k]\n",
    "        #else:\n",
    "            #ax.set_title(\"Training Set\", fontsize=14)\n",
    "        #ax.set_xlabel(\"True Target\", fontsize=12)\n",
    "        #ax.set_ylabel(\"Prediction\", fontsize=12)\n",
    "     \n",
    "    \n",
    "fig, ax = plt.subplots(figsize=(3,3))\n",
    "ax.scatter(NNy, Ay, c='b', s=3)\n",
    "ax.grid(True)\n",
    "ax.set_title(\"Testing Set\", fontsize=14)\n",
    "ax.set_xlabel(\"True Target\", fontsize=12)\n",
    "ax.set_ylabel(\"Prediction\", fontsize=12)"
   ]
  },
  {
   "cell_type": "code",
   "execution_count": 26,
   "metadata": {},
   "outputs": [
    {
     "data": {
      "text/plain": [
       "Text(0,0.5,'Prediction')"
      ]
     },
     "execution_count": 26,
     "metadata": {},
     "output_type": "execute_result"
    },
    {
     "data": {
      "image/png": "[encoded data removed]",
      "text/plain": [
       "<Figure size 216x216 with 1 Axes>"
      ]
     },
     "metadata": {},
     "output_type": "display_data"
    }
   ],
   "source": [
    "NNy2=np.zeros((440))        \n",
    "Ay2=np.zeros((440))\n",
    "for g in range(10):\n",
    "    for k in range(10):\n",
    "        kernel = 1.0 * RBF(1.0)\n",
    "        gpc = GaussianProcessClassifier(kernel=kernel,random_state=0).fit(NX[:,:,k], Ny[:,k])\n",
    "        gpc.score(NX[:,:,k], Ny[:,k])\n",
    "        if k==9:\n",
    "            for i in range(44):\n",
    "                Ay2[i+(g*44)]=yh[i]\n",
    "                \n",
    "fig, ax = plt.subplots(figsize=(3,3))\n",
    "ax.scatter(NNy, Ay2, c='m', s=3)\n",
    "ax.grid(True)\n",
    "ax.set_title(\"Testing Set\", fontsize=14)\n",
    "ax.set_xlabel(\"True Target\", fontsize=12)\n",
    "ax.set_ylabel(\"Prediction\", fontsize=12)"
   ]
  },
  {
   "cell_type": "code",
   "execution_count": 7,
   "metadata": {},
   "outputs": [
    {
     "name": "stdout",
     "output_type": "stream",
     "text": [
      "[[ 0.03807591  0.05068012  0.06169621 ... -0.00259226  0.01990842\n",
      "  -0.01764613]\n",
      " [-0.00188202 -0.04464164 -0.05147406 ... -0.03949338 -0.06832974\n",
      "  -0.09220405]\n",
      " [ 0.08529891  0.05068012  0.04445121 ... -0.00259226  0.00286377\n",
      "  -0.02593034]\n",
      " ...\n",
      " [ 0.04170844  0.05068012 -0.01590626 ... -0.01107952 -0.04687948\n",
      "   0.01549073]\n",
      " [-0.04547248 -0.04464164  0.03906215 ...  0.02655962  0.04452837\n",
      "  -0.02593034]\n",
      " [-0.04547248 -0.04464164 -0.0730303  ... -0.03949338 -0.00421986\n",
      "   0.00306441]]\n",
      "440 10\n",
      "(440,)\n",
      "[   7.21676159 -236.24687902  519.99099852  336.19214992 -675.72894115\n",
      "  394.32884974   -6.57325519  118.29397088  694.17537702   68.31589254]\n"
     ]
    },
    {
     "data": {
      "text/plain": [
       "<matplotlib.collections.PathCollection at 0x2941214f978>"
      ]
     },
     "execution_count": 7,
     "metadata": {},
     "output_type": "execute_result"
    },
    {
     "data": {
      "image/png": "[encoded data removed]",
      "text/plain": [
       "<Figure size 720x360 with 2 Axes>"
      ]
     },
     "metadata": {},
     "output_type": "display_data"
    }
   ],
   "source": [
    "%matplotlib inline\n",
    "import math\n",
    "import seaborn as sns \n",
    "import pandas as pd\n",
    "import numpy as np\n",
    "import matplotlib.pyplot as plt\n",
    "from sklearn import datasets\n",
    "from sklearn.linear_model import LinearRegression\n",
    "# Load data, inspect and do exploratory plots\n",
    "#\n",
    "diabetes = datasets.load_diabetes()\n",
    "X = diabetes.data\n",
    "t = diabetes.target\n",
    "# Inspect sizes\n",
    "#\n",
    "NXX=np.zeros((440,10))\n",
    "NXX=X[0:440,:]\n",
    "nt=np.zeros((440))\n",
    "nt=t[0:440]\n",
    "print(X)\n",
    "NumData, NumFeatures = NXX.shape\n",
    "print(NumData, NumFeatures) # 442 X 10\n",
    "print(nt.shape) # 442\n",
    "\n",
    "# Linear regression using sklearn\n",
    "#\n",
    "lin = LinearRegression(fit_intercept=True)\n",
    "lin.fit(NXX, nt)\n",
    "th1 = lin.predict(NXX)\n",
    "# Pseudo-incerse solution to linear regression\n",
    "#\n",
    "w = np.linalg.inv(NXX.T @ NXX) @ NXX.T @ nt\n",
    "print(w)\n",
    "th2 = NXX @ w\n",
    "# Plot predictions to check if they look the same!\n",
    "#\n",
    "fig, ax = plt.subplots(nrows=1, ncols=2, figsize=(10,5))\n",
    "ax[0].scatter(nt, th1, c='r', s=3)\n",
    "ax[1].scatter(nt, th2, c='g', s=3)"
   ]
  },
  {
   "cell_type": "code",
   "execution_count": 25,
   "metadata": {},
   "outputs": [
    {
     "data": {
      "image/png": "[encoded data removed]",
      "text/plain": [
       "<Figure size 432x288 with 1 Axes>"
      ]
     },
     "metadata": {},
     "output_type": "display_data"
    }
   ],
   "source": [
    "box_plot_data=[NNy,Ay,Ay2]\n",
    "box=plt.boxplot(box_plot_data,notch='True',vert=0,patch_artist=True,labels=['True Target','Gaussian RBF model','sklearn inbuilt RBF model'])\n",
    "\n",
    "colors = ['pink','cyan','lightblue', 'lightgreen', 'tan']\n",
    "for patch, color in zip(box['boxes'], colors):\n",
    "    patch.set_facecolor(color)\n",
    "plt.show()"
   ]
  },
  {
   "cell_type": "code",
   "execution_count": null,
   "metadata": {},
   "outputs": [],
   "source": []
  }
 ],
 "metadata": {
  "kernelspec": {
   "display_name": "Python 3",
   "language": "python",
   "name": "python3"
  },
  "language_info": {
   "codemirror_mode": {
    "name": "ipython",
    "version": 3
   },
   "file_extension": ".py",
   "mimetype": "text/x-python",
   "name": "python",
   "nbconvert_exporter": "python",
   "pygments_lexer": "ipython3",
   "version": "3.6.5"
  }
 },
 "nbformat": 4,
 "nbformat_minor": 2
}
