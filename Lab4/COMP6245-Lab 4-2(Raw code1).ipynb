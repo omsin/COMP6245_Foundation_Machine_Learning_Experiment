{
 "cells": [
  {
   "cell_type": "code",
   "execution_count": 3,
   "metadata": {
    "scrolled": true
   },
   "outputs": [
    {
     "name": "stdout",
     "output_type": "stream",
     "text": [
      "442 10\n"
     ]
    },
    {
     "data": {
      "text/plain": [
       "Text(0,0.5,'Prediction')"
      ]
     },
     "execution_count": 3,
     "metadata": {},
     "output_type": "execute_result"
    },
    {
     "data": {
      "image/png": "[encoded data removed]",
      "text/plain": [
       "<Figure size 288x288 with 1 Axes>"
      ]
     },
     "metadata": {},
     "output_type": "display_data"
    }
   ],
   "source": [
    "%matplotlib inline\n",
    "import numpy as np\n",
    "import matplotlib.pyplot as plt\n",
    "from sklearn import datasets\n",
    "from sklearn.linear_model import LinearRegression\n",
    "diabetes = datasets.load_diabetes()\n",
    "X = diabetes.data\n",
    "y = diabetes.target\n",
    "def gaussian(x, u, sigma):\n",
    "    return(np.exp(-0.5 * np.linalg.norm(x-u) / sigma))\n",
    "N, p = X.shape\n",
    "print(N, p)\n",
    "# Space for design matrix\n",
    "#\n",
    "M = 200\n",
    "U = np.zeros((N,M))\n",
    "# Basis function locations at random\n",
    "#\n",
    "C = np.random.randn(M,p)\n",
    "# Basis function range as distance between two random data\n",
    "#\n",
    "x1 = X[np.floor(np.random.rand()*N).astype(int),:]\n",
    "x2 = X[np.floor(np.random.rand()*N).astype(int),:]\n",
    "sigma = np.linalg.norm(x1-x2)\n",
    "# Construct the design matrix\n",
    "#\n",
    "for i in range(N):\n",
    "    for j in range(M):\n",
    "        U[i,j] = gaussian(X[i,:], C[j,:], sigma)\n",
    "# Pseudo inverse solution for linear part\n",
    "#\n",
    "l = np.linalg.inv(U.T @ U) @ U.T @ y\n",
    "# Predicted values on training data\n",
    "#\n",
    "yh = U @ l\n",
    "fig, ax = plt.subplots(figsize=(3,3))\n",
    "ax.scatter(y, yh, c='m', s=3)\n",
    "ax.grid(True)\n",
    "ax.set_title(\"Implementation\", fontsize=14)\n",
    "ax.set_xlabel(\"True Target\", fontsize=12)\n",
    "ax.set_ylabel(\"Prediction\", fontsize=12)"
   ]
  },
  {
   "cell_type": "code",
   "execution_count": null,
   "metadata": {},
   "outputs": [],
   "source": []
  }
 ],
 "metadata": {
  "kernelspec": {
   "display_name": "Python 3",
   "language": "python",
   "name": "python3"
  },
  "language_info": {
   "codemirror_mode": {
    "name": "ipython",
    "version": 3
   },
   "file_extension": ".py",
   "mimetype": "text/x-python",
   "name": "python",
   "nbconvert_exporter": "python",
   "pygments_lexer": "ipython3",
   "version": "3.8.3"
  }
 },
 "nbformat": 4,
 "nbformat_minor": 2
}
